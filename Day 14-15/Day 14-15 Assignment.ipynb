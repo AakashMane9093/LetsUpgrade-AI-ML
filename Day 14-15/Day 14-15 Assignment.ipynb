{
 "cells": [
  {
   "cell_type": "markdown",
   "metadata": {},
   "source": [
    "# 1. Create a 3x3x3 array with random values "
   ]
  },
  {
   "cell_type": "code",
   "execution_count": 2,
   "metadata": {},
   "outputs": [
    {
     "data": {
      "text/plain": [
       "array([[[0.06241028, 0.10459178, 0.24645971],\n",
       "        [0.40973566, 0.57850016, 0.57164907],\n",
       "        [0.7270337 , 0.09554593, 0.29921571]],\n",
       "\n",
       "       [[0.37973895, 0.08970016, 0.9822355 ],\n",
       "        [0.42675205, 0.04682232, 0.3872606 ],\n",
       "        [0.39562861, 0.36049986, 0.65096741]],\n",
       "\n",
       "       [[0.63611484, 0.36458924, 0.80001707],\n",
       "        [0.34284464, 0.66836457, 0.6145728 ],\n",
       "        [0.94932683, 0.63382394, 0.65206103]]])"
      ]
     },
     "execution_count": 2,
     "metadata": {},
     "output_type": "execute_result"
    }
   ],
   "source": [
    "import numpy as np\n",
    "\n",
    "a = np.random.random((3,3,3))\n",
    "a"
   ]
  },
  {
   "cell_type": "markdown",
   "metadata": {},
   "source": [
    "# 2.Create a 5x5 matrix with values 1,2,3,4 just below the diagonal"
   ]
  },
  {
   "cell_type": "code",
   "execution_count": 3,
   "metadata": {},
   "outputs": [
    {
     "data": {
      "text/plain": [
       "array([[1, 0, 0, 0, 0],\n",
       "       [0, 2, 0, 0, 0],\n",
       "       [0, 0, 3, 0, 0],\n",
       "       [0, 0, 0, 4, 0],\n",
       "       [0, 0, 0, 0, 5]])"
      ]
     },
     "execution_count": 3,
     "metadata": {},
     "output_type": "execute_result"
    }
   ],
   "source": [
    "a = np.diag([1,2,3,4,5])\n",
    "a"
   ]
  },
  {
   "cell_type": "markdown",
   "metadata": {},
   "source": [
    "# 3.Create a 8x8 matrix and fill it with a checkerboard pattern"
   ]
  },
  {
   "cell_type": "code",
   "execution_count": 7,
   "metadata": {},
   "outputs": [
    {
     "data": {
      "text/plain": [
       "array([[0, 1, 0, 1, 0, 1, 0, 1],\n",
       "       [1, 0, 1, 0, 1, 0, 1, 0],\n",
       "       [0, 1, 0, 1, 0, 1, 0, 1],\n",
       "       [1, 0, 1, 0, 1, 0, 1, 0],\n",
       "       [0, 1, 0, 1, 0, 1, 0, 1],\n",
       "       [1, 0, 1, 0, 1, 0, 1, 0],\n",
       "       [0, 1, 0, 1, 0, 1, 0, 1],\n",
       "       [1, 0, 1, 0, 1, 0, 1, 0]])"
      ]
     },
     "execution_count": 7,
     "metadata": {},
     "output_type": "execute_result"
    }
   ],
   "source": [
    "a = np.ones((3,3))\n",
    "a = np.zeros((8,8),dtype=int)\n",
    "a[1::2,::2] = 1\n",
    "a[::2,1::2] = 1\n",
    "a"
   ]
  },
  {
   "cell_type": "markdown",
   "metadata": {},
   "source": [
    "# 4. Normalize a 5x5 random matrix"
   ]
  },
  {
   "cell_type": "code",
   "execution_count": 10,
   "metadata": {},
   "outputs": [
    {
     "name": "stdout",
     "output_type": "stream",
     "text": [
      "Before\n",
      "[[0.64189487 0.10137274 0.24718102 0.39042041 0.20545007]\n",
      " [0.55257207 0.65115534 0.54076193 0.73077535 0.99710091]\n",
      " [0.6715178  0.536782   0.12674773 0.22804017 0.6701381 ]\n",
      " [0.25158858 0.88117466 0.53628829 0.09862153 0.21221669]\n",
      " [0.21599094 0.04946655 0.54889069 0.70330514 0.61958583]]\n",
      "After normalization:\n",
      "[[0.62516551 0.05477448 0.20864004 0.35979474 0.16460306]\n",
      " [0.53090679 0.63493771 0.51844403 0.71895746 1.        ]\n",
      " [0.65642538 0.51424417 0.08155168 0.18844148 0.65496944]\n",
      " [0.21329116 0.87766774 0.51372318 0.05187124 0.1717436 ]\n",
      " [0.17572642 0.         0.52702198 0.68996927 0.60162369]]\n"
     ]
    }
   ],
   "source": [
    "a = np.random.random((5,5))\n",
    "print(\"Before\")\n",
    "print(a)\n",
    "amax, amin = a.max(), a.min()\n",
    "a = (a - amin)/(amax - amin)\n",
    "print(\"After normalization:\")\n",
    "print(a)"
   ]
  },
  {
   "cell_type": "markdown",
   "metadata": {},
   "source": [
    "# 5.  How to find common values between two arrays?"
   ]
  },
  {
   "cell_type": "code",
   "execution_count": 13,
   "metadata": {},
   "outputs": [
    {
     "name": "stdout",
     "output_type": "stream",
     "text": [
      "Array a:  [11 22 55 77 45 65 68]\n",
      "Array b:  [12 55 44 77 89 36 25 15]\n",
      "Common values between two arrays are:\n",
      "[55 77]\n"
     ]
    }
   ],
   "source": [
    "a = np.array([11,22,55,77,45,65,68])\n",
    "print(\"Array a: \",a)\n",
    "      \n",
    "      \n",
    "b = np.array([12,55,44,77,89,36,25,15])\n",
    "print(\"Array b: \",b)\n",
    "      \n",
    "      \n",
    "print(\"Common values between two arrays are:\")\n",
    "print(np.intersect1d(a, b))"
   ]
  },
  {
   "cell_type": "markdown",
   "metadata": {},
   "source": [
    "# 6.How to get the dates of yesterday, today and tomorrow?"
   ]
  },
  {
   "cell_type": "code",
   "execution_count": 15,
   "metadata": {},
   "outputs": [
    {
     "name": "stdout",
     "output_type": "stream",
     "text": [
      "Yestraday:  2020-07-24\n",
      "Today:  2020-07-25\n",
      "Tomorrow:  2020-07-26\n"
     ]
    }
   ],
   "source": [
    "yesterday = np.datetime64('today', 'D') - np.timedelta64(1, 'D')\n",
    "print(\"Yestraday: \",yesterday)\n",
    "\n",
    "today = np.datetime64('today', 'D')\n",
    "print(\"Today: \",today)\n",
    "\n",
    "tomorrow = np.datetime64('today', 'D') + np.timedelta64(1, 'D')\n",
    "print(\"Tomorrow: \",tomorrow)"
   ]
  },
  {
   "cell_type": "markdown",
   "metadata": {},
   "source": [
    "# 7. Consider two random array A and B, check if they are equal"
   ]
  },
  {
   "cell_type": "code",
   "execution_count": 23,
   "metadata": {},
   "outputs": [
    {
     "name": "stdout",
     "output_type": "stream",
     "text": [
      "First array:\n",
      "[1 2 2 1 1 0 1 0]\n",
      "Second array:\n",
      "[0 0 1 0 2 1 0 0]\n",
      "Test above two arrays are equal or not!\n",
      "False\n"
     ]
    }
   ],
   "source": [
    "a = np.random.randint(0,3,8)\n",
    "print(\"First array:\")\n",
    "print(a)\n",
    "\n",
    "b = np.random.randint(0,3,8)\n",
    "print(\"Second array:\")\n",
    "print(b)\n",
    "\n",
    "print(\"Test above two arrays are equal or not!\")\n",
    "equal = np.allclose(a, b)\n",
    "print(equal)"
   ]
  },
  {
   "cell_type": "markdown",
   "metadata": {},
   "source": [
    "# 8.Create random vector of size 10 and replace the maximum value by 0 "
   ]
  },
  {
   "cell_type": "code",
   "execution_count": 25,
   "metadata": {},
   "outputs": [
    {
     "name": "stdout",
     "output_type": "stream",
     "text": [
      "Array: \n",
      "[0.32010365 0.96295989 0.86081631 0.03602764 0.0713552  0.05766768\n",
      " 0.53266778 0.27222352 0.31602308 0.01453988]\n",
      "Maximum value replaced by 0:\n",
      "[0.32010365 0.         0.86081631 0.03602764 0.0713552  0.05766768\n",
      " 0.53266778 0.27222352 0.31602308 0.01453988]\n"
     ]
    }
   ],
   "source": [
    "a = np.random.random(10)\n",
    "print(\"Array: \")\n",
    "print(a)\n",
    "\n",
    "a[a.argmax()] = 0\n",
    "print(\"Maximum value replaced by 0:\")\n",
    "print(a)"
   ]
  },
  {
   "cell_type": "markdown",
   "metadata": {},
   "source": [
    "# 9. How to print all the values of an array?"
   ]
  },
  {
   "cell_type": "code",
   "execution_count": 26,
   "metadata": {},
   "outputs": [
    {
     "name": "stdout",
     "output_type": "stream",
     "text": [
      "[ 0  1  2  3  4  5  6  7  8  9 10 11 12 13 14 15 16 17 18 19 20 21 22 23\n",
      " 24 25 26 27 28 29 30 31 32 33 34 35 36 37 38 39 40 41 42 43 44 45 46 47\n",
      " 48 49]\n"
     ]
    }
   ],
   "source": [
    "import sys\n",
    "a = np.arange(50)\n",
    "np.set_printoptions(threshold=sys.maxsize)\n",
    "print(a)"
   ]
  },
  {
   "cell_type": "markdown",
   "metadata": {},
   "source": [
    "# 10.Subtract the mean of each row of a matrix"
   ]
  },
  {
   "cell_type": "code",
   "execution_count": 28,
   "metadata": {},
   "outputs": [
    {
     "name": "stdout",
     "output_type": "stream",
     "text": [
      "Matrix: \n",
      "[[0.75405499 0.78764958 0.81001105]\n",
      " [0.10932116 0.90995055 0.04781883]\n",
      " [0.5521806  0.50695055 0.55100641]]\n",
      "\n",
      "Subtract the mean of each row of the said matrix:\n",
      "\n",
      "[[-0.02985021  0.00374438  0.02610584]\n",
      " [-0.24637569  0.5542537  -0.30787802]\n",
      " [ 0.01546808 -0.02976197  0.01429389]]\n"
     ]
    }
   ],
   "source": [
    "print(\"Matrix: \")\n",
    "a = np.random.rand(3,3)\n",
    "print(a)\n",
    "print(\"\\nSubtract the mean of each row of the said matrix:\\n\")\n",
    "b = a - a.mean(axis=1, keepdims=True)\n",
    "print(b)"
   ]
  },
  {
   "cell_type": "markdown",
   "metadata": {},
   "source": [
    "# 11.Consider a given vector, how to add 1 to each element indexed by a second vector (be careful with repeated indices)? "
   ]
  },
  {
   "cell_type": "code",
   "execution_count": 35,
   "metadata": {},
   "outputs": [
    {
     "name": "stdout",
     "output_type": "stream",
     "text": [
      "[1. 1. 1. 1. 1.]\n",
      "[4 2 1 0 1 2 3 1 0 0]\n",
      "[4. 4. 3. 2. 2.]\n"
     ]
    }
   ],
   "source": [
    "a = np.ones(5)\n",
    "print(a)\n",
    "\n",
    "b = np.random.randint(0,len(a),10)\n",
    "print(b)\n",
    "\n",
    "a += np.bincount(b, minlength=len(a))\n",
    "print(a)"
   ]
  },
  {
   "cell_type": "markdown",
   "metadata": {},
   "source": [
    "# 12.How to get the diagonal of a dot product?"
   ]
  },
  {
   "cell_type": "code",
   "execution_count": 42,
   "metadata": {},
   "outputs": [
    {
     "name": "stdout",
     "output_type": "stream",
     "text": [
      "[[0 1 2]\n",
      " [3 4 5]\n",
      " [6 7 8]] \n",
      "\n",
      "[[0 1 2]\n",
      " [3 4 5]\n",
      " [6 7 8]] \n",
      "\n",
      "[ 15  54 111]\n"
     ]
    }
   ],
   "source": [
    "a = np.arange(9).reshape(3, 3)\n",
    "print(a,\"\\n\")\n",
    "\n",
    "b = np.arange(9).reshape(3, 3)\n",
    "print(b,\"\\n\")\n",
    "\n",
    "c = np.diag(a.dot(b))\n",
    "print(c) "
   ]
  },
  {
   "cell_type": "markdown",
   "metadata": {},
   "source": [
    "# 13.How to find the most frequent value in an array?"
   ]
  },
  {
   "cell_type": "code",
   "execution_count": 46,
   "metadata": {},
   "outputs": [
    {
     "name": "stdout",
     "output_type": "stream",
     "text": [
      "Array:\n",
      "[3 7 7 7 9 7 8 9 9 9 8 2 7 6 5 3 5 9 2 2]\n",
      "Most frequent value in the above array:\n",
      "7\n"
     ]
    }
   ],
   "source": [
    "a = np.random.randint(0, 10, 20)\n",
    "print(\"Array:\")\n",
    "print(a)\n",
    "\n",
    "print(\"Most frequent value in the above array:\")\n",
    "print(np.bincount(a).argmax())"
   ]
  },
  {
   "cell_type": "markdown",
   "metadata": {},
   "source": [
    "# 14.How to get the n largest values of an array"
   ]
  },
  {
   "cell_type": "code",
   "execution_count": 63,
   "metadata": {},
   "outputs": [
    {
     "name": "stdout",
     "output_type": "stream",
     "text": [
      "Array:\n",
      "[  2   5  88  99 101  54  65  74  35  28  45]\n",
      "Maximum value is:\n",
      "[101]\n"
     ]
    }
   ],
   "source": [
    "a = np.array([2,5,88,99,101,54,65,74,35,28,45])\n",
    "print(\"Array:\")\n",
    "print(a)\n",
    "n = 1\n",
    "print(\"Maximum value is:\")\n",
    "print (a[np.argsort(a)[-n:]])"
   ]
  },
  {
   "cell_type": "markdown",
   "metadata": {},
   "source": [
    "# 15.How to create a record array from a regular array?"
   ]
  },
  {
   "cell_type": "code",
   "execution_count": 65,
   "metadata": {},
   "outputs": [
    {
     "name": "stdout",
     "output_type": "stream",
     "text": [
      "('Machine', 99, 'p')\n",
      "('Learning', 55, 'q')\n",
      "('Engineer', 11, 'r')\n"
     ]
    }
   ],
   "source": [
    "a = np.array(['Machine','Learning','Engineer'])\n",
    "b = np.array([99,55,11])\n",
    "c = np.array(['p','q','r'])\n",
    "records= np.core.records.fromarrays([a, b, c])\n",
    "print(result[0])\n",
    "print(result[1])\n",
    "print(result[2])"
   ]
  }
 ],
 "metadata": {
  "kernelspec": {
   "display_name": "Python 3",
   "language": "python",
   "name": "python3"
  },
  "language_info": {
   "codemirror_mode": {
    "name": "ipython",
    "version": 3
   },
   "file_extension": ".py",
   "mimetype": "text/x-python",
   "name": "python",
   "nbconvert_exporter": "python",
   "pygments_lexer": "ipython3",
   "version": "3.8.2"
  }
 },
 "nbformat": 4,
 "nbformat_minor": 2
}
