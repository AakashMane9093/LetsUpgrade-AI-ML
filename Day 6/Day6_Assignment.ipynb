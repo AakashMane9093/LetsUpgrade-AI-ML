{
 "cells": [
  {
   "cell_type": "code",
   "execution_count": 6,
   "metadata": {},
   "outputs": [
    {
     "name": "stdout",
     "output_type": "stream",
     "text": [
      "Enter your email address:  aakashmane9929@gmail.com\n",
      "gmail\n"
     ]
    }
   ],
   "source": [
    "'''Question 1:\n",
    "Assuming that we have some email addresses in the \"username@companyname.com\" format, please write program\n",
    "to print the company name of a given email address. Both user names and company names are composed of letters\n",
    "only.\n",
    "Input Format:\n",
    "The first line of the input contains an email address.\n",
    "Output Format:\n",
    "Print the company name in single line.\n",
    "Example;\n",
    "Input:\n",
    "john@google.com\n",
    "Output:\n",
    "google'''\n",
    "\n",
    "\n",
    "a = str(input(\"Enter your email address:  \"))\n",
    "\n",
    "start = '@'\n",
    "end = '.'\n",
    "\n",
    "b = a.split(start)[1].split(end)[0]\n",
    "\n",
    "print(b)"
   ]
  },
  {
   "cell_type": "code",
   "execution_count": 16,
   "metadata": {},
   "outputs": [
    {
     "name": "stdout",
     "output_type": "stream",
     "text": [
      "['bag', 'hello', 'without', 'world']\n"
     ]
    }
   ],
   "source": [
    "'''Question 2:\n",
    "Write a program that accepts a comma-separated sequence of words as input and prints the words in a comma\n",
    "separated sequence after sorting them alphabetically.\n",
    "Input Format:\n",
    "The first line of input contains words separated by the comma.\n",
    "Output Format:\n",
    "Print the sorted words separated by the comma.\n",
    "Example:\n",
    "Input:\n",
    "without,hello,bag,world\n",
    "Output:\n",
    "bag,hello,without,world'''\n",
    "\n",
    "a = [\"without\",\"hello\",\"bag\",\"world\"]\n",
    "a.sort()\n",
    "print(a)"
   ]
  },
  {
   "cell_type": "markdown",
   "metadata": {},
   "source": [
    "                                                #Sets\n",
    "A set is a collection which is unordered and unindexed. In Python sets are written with curly brackets {}. \n",
    "Since set is unordered there output cannot be predicted.   \n",
    "To add one item use add() method and to add multiple items use update() method.  \n",
    "To remove an item from set use remove() or discard() method.  \n",
    "We can also use pop() method but this will remove the last element of the set,but since set are unordered we will not know which item will get removed.  \n",
    "The 'del' word deletes the entire set.  \n",
    "To join 2 sets we can use union() or update() method.  \n",
    "\n",
    "\n",
    "\n",
    "\n"
   ]
  },
  {
   "cell_type": "code",
   "execution_count": 21,
   "metadata": {},
   "outputs": [
    {
     "name": "stdout",
     "output_type": "stream",
     "text": [
      "<class 'set'>\n",
      "{'machine', 'engineer', 'learning'}\n",
      "3\n",
      "{'machine', 'learning'}\n",
      "{'machine', 'with', 'learning', 'LetsUpgrade'}\n"
     ]
    }
   ],
   "source": [
    "t = {\"machine\", \"learning\",\"engineer\"}\n",
    "print(type(t))\n",
    "print(t)  \n",
    "\n",
    "\n",
    "print(len(t))\n",
    "\n",
    "\n",
    "t.remove(\"engineer\")\n",
    "print(t)\n",
    "\n",
    "\n",
    "s = {\"with\",\"LetsUpgrade\"}\n",
    "t.update(s)\n",
    "print(t)"
   ]
  },
  {
   "cell_type": "code",
   "execution_count": 22,
   "metadata": {},
   "outputs": [
    {
     "name": "stdout",
     "output_type": "stream",
     "text": [
      "6\n"
     ]
    }
   ],
   "source": [
    "'''Question 4:\n",
    "Given a list of n-1 numbers ranging from 1 to n, your task is to find the missing number. There are no duplicates.\n",
    "Input Format:\n",
    "The first line contains n-1 numbers with each number separated by a space.\n",
    "Output Format:\n",
    "Print the missing number\n",
    "Example:\n",
    "Input:1 2 4 6 3 7 8\n",
    "Output:5\n",
    "Explanation:\n",
    "In the above list of numbers 5 is missing and hence 5 is the input'''\n",
    "\n",
    "\n",
    "def find_missing(n): \n",
    "    for x in range(n[0], n[-1]+1):\n",
    "        if x not in n:\n",
    "            return x\n",
    "        \n",
    "n = [1,2,3,4,5,7,8,9]\n",
    "print(find_missing(n))"
   ]
  },
  {
   "cell_type": "code",
   "execution_count": 24,
   "metadata": {},
   "outputs": [
    {
     "name": "stdout",
     "output_type": "stream",
     "text": [
      "[12, 24, 35, 88, 120, 155]\n"
     ]
    }
   ],
   "source": [
    "'''Question 5:\n",
    "With a given list L, write a program to print this list L after removing all duplicate values with original order reserved.\n",
    "Example:\n",
    "If the input list is\n",
    "12 24 35 24 88 120 155 88 120 155\n",
    "Then the output should be\n",
    "12 24 35 88 120 155\n",
    "Explanation:\n",
    "Third, seventh and ninth element of the list L has been removed because it was already present.\n",
    "Input Format:\n",
    "In one line take the elements of the list L with each element separated by a space.\n",
    "Output Format:\n",
    "Print the elements of the modified list in one line with each element separated by a space.\n",
    "Example:\n",
    "Input: 12 24 35 24\n",
    "Output:\n",
    "12 24 35'''\n",
    "\n",
    "\n",
    "def rmv_duplicate(a):\n",
    "    return list(dict.fromkeys(a))\n",
    "\n",
    "a = [12,24,35,24,88,120,155,88,120,155]\n",
    "print(rmv_duplicate(a))"
   ]
  }
 ],
 "metadata": {
  "kernelspec": {
   "display_name": "Python 3",
   "language": "python",
   "name": "python3"
  },
  "language_info": {
   "codemirror_mode": {
    "name": "ipython",
    "version": 3
   },
   "file_extension": ".py",
   "mimetype": "text/x-python",
   "name": "python",
   "nbconvert_exporter": "python",
   "pygments_lexer": "ipython3",
   "version": "3.8.2"
  }
 },
 "nbformat": 4,
 "nbformat_minor": 4
}
