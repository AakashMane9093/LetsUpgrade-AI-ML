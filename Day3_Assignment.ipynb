{
 "cells": [
  {
   "cell_type": "markdown",
   "metadata": {
    "colab_type": "text",
    "id": "1tpWXAkt3vRZ"
   },
   "source": [
    "## **Day 3 Assignment**\n"
   ]
  },
  {
   "cell_type": "code",
   "execution_count": 1,
   "metadata": {
    "colab": {
     "base_uri": "https://localhost:8080/",
     "height": 68
    },
    "colab_type": "code",
    "id": "iMiDEI5N3tdB",
    "outputId": "dcc13ec8-3d16-44d4-ecaa-2356ea5f5af4"
   },
   "outputs": [
    {
     "name": "stdout",
     "output_type": "stream",
     "text": [
      "Enter the first complex number5+4j\n",
      "Enter the second complex number6-8j\n",
      "The subtraction of two complex number is:  (-1+12j)\n"
     ]
    }
   ],
   "source": [
    "'''Question 1 :\n",
    "Write a program to subtract two complex numbers in Python.'''\n",
    "\n",
    "a = complex(input(\"Enter the first complex number\"))\n",
    "b = complex(input(\"Enter the second complex number\"))\n",
    "\n",
    "c = a-b\n",
    "\n",
    "print(\"The subtraction of two complex number is: \",c)"
   ]
  },
  {
   "cell_type": "code",
   "execution_count": 2,
   "metadata": {
    "colab": {
     "base_uri": "https://localhost:8080/",
     "height": 51
    },
    "colab_type": "code",
    "id": "uaV101nBPCPk",
    "outputId": "e80ddee1-600a-4865-9e56-331dd049d80e"
   },
   "outputs": [
    {
     "name": "stdout",
     "output_type": "stream",
     "text": [
      "Enter the number: 256\n",
      "The fourth root of the number is:  4.0\n"
     ]
    }
   ],
   "source": [
    "'''Question 2 :\n",
    "Write a program to find the fourth root of a number.'''\n",
    "\n",
    "a = int(input(\"Enter the number: \"))\n",
    "\n",
    "b = a**(1/4)\n",
    "\n",
    "print(\"The fourth root of the number is: \",b)"
   ]
  },
  {
   "cell_type": "code",
   "execution_count": 3,
   "metadata": {
    "colab": {
     "base_uri": "https://localhost:8080/",
     "height": 68
    },
    "colab_type": "code",
    "id": "OuK0QNufJK09",
    "outputId": "6cd8785a-5266-40eb-b825-413eb772119e"
   },
   "outputs": [
    {
     "name": "stdout",
     "output_type": "stream",
     "text": [
      "Enter the first number: 42\n",
      "Enter the second number: 36\n",
      "The swapped numbers are: a = 36 b = 42\n"
     ]
    }
   ],
   "source": [
    "'''Question 3:\n",
    "Write a program to swap two numbers in Python with the help of a temporary variable.'''\n",
    "\n",
    "\n",
    "a = int(input(\"Enter the first number: \"))\n",
    "b = int(input(\"Enter the second number: \"))\n",
    "\n",
    "temp = a\n",
    "a = b\n",
    "b = temp\n",
    "\n",
    "print(\"The swapped numbers are: a =\",a,\"b =\",b)"
   ]
  },
  {
   "cell_type": "code",
   "execution_count": 4,
   "metadata": {
    "colab": {
     "base_uri": "https://localhost:8080/",
     "height": 68
    },
    "colab_type": "code",
    "id": "3qA_Y3o9UsCN",
    "outputId": "ab0b6018-75b4-40cb-dabf-a210f14b59b5"
   },
   "outputs": [
    {
     "name": "stdout",
     "output_type": "stream",
     "text": [
      "Enter the first number: 45\n",
      "Enter the second number: 65\n",
      "The swapped numbers are: a = 65 b = 45\n"
     ]
    }
   ],
   "source": [
    "'''Question 4:\n",
    "Write a program to swap two numbers in Python without using a temporary variable'''\n",
    "\n",
    "a = int(input(\"Enter the first number: \"))\n",
    "b = int(input(\"Enter the second number: \"))\n",
    "\n",
    "a = a + b\n",
    "b = a - b\n",
    "a = a - b\n",
    "\n",
    "print(\"The swapped numbers are: a =\",a,\"b =\",b)"
   ]
  },
  {
   "cell_type": "code",
   "execution_count": 5,
   "metadata": {
    "colab": {
     "base_uri": "https://localhost:8080/",
     "height": 68
    },
    "colab_type": "code",
    "id": "jW3OCor0Vu8N",
    "outputId": "252c88de-14f5-4586-974e-3a414996b69f"
   },
   "outputs": [
    {
     "name": "stdout",
     "output_type": "stream",
     "text": [
      "Enter the degrees in fahrenheit: 155\n",
      "the conversion of fahrenheit to kelvin is:  341.83333333333337\n",
      "the conversion of fahrenheit to celsius is:  68.33333333333333\n"
     ]
    }
   ],
   "source": [
    "'''Question 5:\n",
    "Write a program to convert fahrenheit to kelvin and celsius both.'''\n",
    "\n",
    "a = float(input(\"Enter the degrees in fahrenheit: \"))\n",
    "\n",
    "b = 273.5 + ((a - 32.0) * (5.0/9.0))\n",
    "c  = (a - 32) * 5.0/9.0\n",
    "\n",
    "print(\"the conversion of fahrenheit to kelvin is: \",b)\n",
    "print(\"the conversion of fahrenheit to celsius is: \",c)\n"
   ]
  },
  {
   "cell_type": "code",
   "execution_count": 6,
   "metadata": {
    "colab": {
     "base_uri": "https://localhost:8080/",
     "height": 170
    },
    "colab_type": "code",
    "id": "wMCWksObX36Y",
    "outputId": "0bf4c0a7-16f4-4388-9665-a7aa6eb8486d"
   },
   "outputs": [
    {
     "name": "stdout",
     "output_type": "stream",
     "text": [
      "The type of a is <class 'int'>\n",
      "The type of b is <class 'float'>\n",
      "The type of c is <class 'complex'>\n",
      "The type of d is <class 'str'>\n",
      "The type of e is <class 'list'>\n",
      "The type of f is <class 'tuple'>\n",
      "The type of g is <class 'dict'>\n",
      "The type of h is <class 'set'>\n",
      "The type of i is <class 'bool'>\n"
     ]
    }
   ],
   "source": [
    "'''Question 6:\n",
    "Write a program to demonstrate all the available data types in Python. Hint: Use type() function.'''\n",
    "\n",
    "a = 5\n",
    "print(\"The type of a is\",type(a))\n",
    "\n",
    "b = 2.0\n",
    "print(\"The type of b is\",type(b))\n",
    "\n",
    "c = 1+2j\n",
    "print(\"The type of c is\", type(c))\n",
    "\n",
    "d = \"Hello LetsUpgrade\"\n",
    "print(\"The type of d is\",type(d))\n",
    "\n",
    "e = [\"python\", \"c\", \"java\"]\n",
    "print(\"The type of e is\",type(e)) \n",
    "\n",
    "f = (\"python\", \"c\", \"java\")\n",
    "print(\"The type of f is\",type(f))\n",
    "\n",
    "g = {\"Name\" : \"Aakash\", \"age\" : 22}\t\n",
    "print(\"The type of g is\",type(g))\n",
    "\n",
    "h = {\"python\", \"c\", \"java\"}\t\n",
    "print(\"The type of h is\",type(h))\n",
    "\n",
    "i = True\n",
    "print(\"The type of i is\",type(i))"
   ]
  },
  {
   "cell_type": "markdown",
   "metadata": {
    "colab": {},
    "colab_type": "code",
    "id": "TZQeGlvjbtdD"
   },
   "source": [
    "Question 7:\n",
    "Create a Markdown cell in jupyter and list the steps discussed in the session by Dr. Darshan\n",
    "Ingle sir to create Github profile and upload Githubs Assignment link.\n",
    "\n",
    "Step 1: Sign in/login to www.github.com.\n",
    "Step 2: Create a Repository with the name LetsUpgrade AI-ML.(should be public)\n",
    "Step 3: If you have completed the assignment the in github select the repository.\n",
    "Step 4: Select the Uploading an existing file and upload the file.\n",
    "Step 5: Once uploaded select the url and paste in the form provided by the LetsUpgrade\n",
    "\n"
   ]
  }
 ],
 "metadata": {
  "colab": {
   "name": "Day3 Assignment.ipynb",
   "provenance": []
  },
  "kernelspec": {
   "display_name": "Python 3",
   "language": "python",
   "name": "python3"
  },
  "language_info": {
   "codemirror_mode": {
    "name": "ipython",
    "version": 3
   },
   "file_extension": ".py",
   "mimetype": "text/x-python",
   "name": "python",
   "nbconvert_exporter": "python",
   "pygments_lexer": "ipython3",
   "version": "3.7.3"
  }
 },
 "nbformat": 4,
 "nbformat_minor": 1
}
