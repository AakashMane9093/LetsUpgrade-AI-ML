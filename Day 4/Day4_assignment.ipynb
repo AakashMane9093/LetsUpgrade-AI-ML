{
 "cells": [
  {
   "cell_type": "code",
   "execution_count": 1,
   "metadata": {
    "scrolled": true
   },
   "outputs": [
    {
     "name": "stdout",
     "output_type": "stream",
     "text": [
      "Enter the first complex number: 1+3j\n",
      "Enter the second complex number: 5+4j\n",
      "The addition for complex number is:  (6+7j)\n",
      "The subtraction for complex number is:  (-4-1j)\n",
      "The multiplication for complex number is:  (-7+19j)\n",
      "The division for complex number is:  (0.4146341463414635+0.26829268292682934j)\n"
     ]
    }
   ],
   "source": [
    "'''Question 1 :\n",
    "Research on whether addition, subtraction, multiplication, division, floor division and modulo\n",
    "operations be performed on complex numbers. Based on your study, implement a Python\n",
    "program to demonstrate these operations.'''\n",
    "\n",
    "a = complex(input(\"Enter the first complex number: \"))\n",
    "\n",
    "b = complex(input(\"Enter the second complex number: \"))\n",
    "\n",
    "c = a + b\n",
    "print(\"The addition for complex number is: \",c)\n",
    "\n",
    "c = a - b\n",
    "print(\"The subtraction for complex number is: \",c)\n",
    "\n",
    "c = a * b\n",
    "print(\"The multiplication for complex number is: \",c)\n",
    "\n",
    "c = a/b\n",
    "print(\"The division for complex number is: \",c)\n",
    "\n",
    "#Operations like floor division and modulo cannot be performed"
   ]
  },
  {
   "cell_type": "markdown",
   "metadata": {},
   "source": [
    "Question 2 :\n",
    "Research on range() functions and its parameters. Create a markdown cell and write in your own\n",
    "words (no copy-paste from google please) what you understand about it. Implement a small\n",
    "program of your choice on the same.\n",
    "\n",
    "Range() function contains 3 parameters,\n",
    "1.Start\n",
    "2.Stop\n",
    "3.Steps\n",
    "\n",
    "Here, Start amd Steps can be optional both have default 0 and 1 respectively. But stop is neccesary because its not included and should be spcified where to stop.\n",
    "\n"
   ]
  },
  {
   "cell_type": "code",
   "execution_count": 5,
   "metadata": {},
   "outputs": [
    {
     "name": "stdout",
     "output_type": "stream",
     "text": [
      "Enter a Number: 10\n",
      "\n",
      "1 \n",
      "2 2 \n",
      "3 3 3 \n",
      "4 4 4 4 \n",
      "5 5 5 5 5 \n",
      "6 6 6 6 6 6 \n",
      "7 7 7 7 7 7 7 \n",
      "8 8 8 8 8 8 8 8 \n",
      "9 9 9 9 9 9 9 9 9 \n"
     ]
    }
   ],
   "source": [
    "a = int(input(\"Enter a Number: \"))\n",
    "\n",
    "for p in range(a):\n",
    "    for q in range(p):\n",
    "        print(p,end=\" \")\n",
    "    print() \n"
   ]
  },
  {
   "cell_type": "code",
   "execution_count": 6,
   "metadata": {},
   "outputs": [
    {
     "name": "stdout",
     "output_type": "stream",
     "text": [
      "Enter the fisrt number: 15\n",
      "Enter the second number: 1\n",
      "Subtraction is:  14\n",
      "Division is:  15.0\n"
     ]
    }
   ],
   "source": [
    "'''Question 3:\n",
    " Consider two numbers. Perform their subtraction and if the result of subtraction is greater than\n",
    "25, print their multiplication result else print their division result.'''\n",
    "\n",
    "a = int(input(\"Enter the fisrt number: \"))\n",
    "b = int(input(\"Enter the second number: \"))\n",
    "\n",
    "c = a - b\n",
    "print(\"Subtraction is: \",c)\n",
    "if(c>25):\n",
    "    d = a*b\n",
    "    print(\"Multiplication is: \",d)\n",
    "else:\n",
    "    d = a/b\n",
    "    print(\"Division is: \",d)\n"
   ]
  },
  {
   "cell_type": "code",
   "execution_count": 7,
   "metadata": {},
   "outputs": [
    {
     "name": "stdout",
     "output_type": "stream",
     "text": [
      "6     square of that number minus 2\n",
      "8     square of that number minus 2\n",
      "10     square of that number minus 2\n",
      "12     square of that number minus 2\n",
      "56     square of that number minus 2\n",
      "78     square of that number minus 2\n",
      "90     square of that number minus 2\n"
     ]
    }
   ],
   "source": [
    "'''Question 4:\n",
    "Consider a list of 10 elements of integer values. If the number in the list is divisible by 2, print the\n",
    "result as \"square of that number minus 2\".'''\n",
    "\n",
    "a = [1,3,5,6,8,10,12,56,78,90]\n",
    "\n",
    "for i in a:\n",
    "    if(i%2==0):\n",
    "        print(i,\"    square of that number minus 2\",)\n",
    "    "
   ]
  },
  {
   "cell_type": "code",
   "execution_count": 8,
   "metadata": {},
   "outputs": [
    {
     "name": "stdout",
     "output_type": "stream",
     "text": [
      "89\n",
      "76\n",
      "45\n",
      "34\n",
      "21\n",
      "22\n"
     ]
    }
   ],
   "source": [
    "'''Question 5:\n",
    "Consider a list of 10 elements. Print all the elements in the list which are greater than 7 when that\n",
    "number is divided 2.'''\n",
    "\n",
    "a = [2,5,6,89,76,45,14,34,21,22]\n",
    "\n",
    "for i in a:\n",
    "    if(i/2>7):\n",
    "        print(i)"
   ]
  }
 ],
 "metadata": {
  "kernelspec": {
   "display_name": "Python 3",
   "language": "python",
   "name": "python3"
  },
  "language_info": {
   "codemirror_mode": {
    "name": "ipython",
    "version": 3
   },
   "file_extension": ".py",
   "mimetype": "text/x-python",
   "name": "python",
   "nbconvert_exporter": "python",
   "pygments_lexer": "ipython3",
   "version": "3.8.2"
  }
 },
 "nbformat": 4,
 "nbformat_minor": 4
}
